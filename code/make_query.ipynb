{
 "cells": [
  {
   "cell_type": "code",
   "execution_count": 1,
   "metadata": {
    "collapsed": true
   },
   "outputs": [],
   "source": [
    "import os\n",
    "import numpy as np\n",
    "import random\n",
    "import util\n",
    "from IPython.display import clear_output"
   ]
  },
  {
   "cell_type": "code",
   "execution_count": 2,
   "metadata": {
    "collapsed": true
   },
   "outputs": [],
   "source": [
    "WIKI_DIR=\"/home/asd36952/exobrain/data/wikipedia/boxed_content_20160407/\"\n",
    "\n",
    "wiki_file_list=os.listdir(WIKI_DIR)"
   ]
  },
  {
   "cell_type": "code",
   "execution_count": null,
   "metadata": {
    "collapsed": false
   },
   "outputs": [],
   "source": [
    "while(True):\n",
    "    clear_output()\n",
    "    wiki_file=random.sample(wiki_file_list,1)\n",
    "    print(wiki_file[0])\n",
    "    line_num=1\n",
    "    for sentence in util.load_stories_with_our_query_from_filename(wiki_file[0]):\n",
    "        print(str(line_num)+\": \"+\" \".join(sentence))\n",
    "        line_num+=1\n",
    "    input()\n",
    "    "
   ]
  },
  {
   "cell_type": "code",
   "execution_count": null,
   "metadata": {
    "collapsed": false,
    "scrolled": false
   },
   "outputs": [
    {
     "name": "stdout",
     "output_type": "stream",
     "text": [
      "0106846_쇠비름(본문).txt\n",
      "0: 쇠 비름 .\n",
      "1: 쇠 비름 은 쇠비름 과 에 속 하 는 한해살이 풀 이 다 .\n",
      "2: 밭 이나 길가 에서 흔히 자라 ㄴ다 .\n",
      "3: 생명 력 이 강 하 어서 뿌리 째 뽑혀 도 오랫동안 살 ㄹ 수 있 다 .\n",
      "4: 그만큼 번식 이 왕성 하 어서 농사 에 크 ㄴ 피해 를 주 어 해 롭 ㄴ 잡초 로 간주 되 기 도 하 ㄴ다 .\n",
      "5: 잎 이 말 의 이 를 닮 았 다 하 어서 마치채 ( 馬齒菜 ) 또는 말비름 , 먹 으면 장수 하 ㄴ다고 하 어서 장명 채 ( 長命菜 ) , 음양 오행설 을 말 하 는 다섯 가지 기운 즉 초록 빛 잎 과 붉 은 줄기 , 노랗 ㄴ 꽃 , 희 ㄴ 뿌리 , 까맣 ㄴ 씨 의 다섯 가지 색 을 다 갖추 었 다 하 어서 오행 초 ( 五行草 ) 라고 도 불리 ㄴ다 .\n",
      "6: 줄기 의 높이 는 15 - 30 ㎝ 가량 이 다 .\n",
      "7: 줄기 는 가지 로 나뉘 어 있 는데 , 아랫부분 은 땅 을 기 고 윗부분 은 비스듬히 서 ㄴ다 .\n",
      "8: 잎 은 길 ㄴ 타원 형 으로 마주나 며 잎 자루 가 없 으며 다육 질 이 다 .\n",
      "9: 5 - 8 월 경 이 되 면 5 개 의 꽃 덮이 를 가지 ㄴ 꽃 이 가지 끝 에 2 - 5 개 씩 피 는데 , 꽃 자루 가 없 으며 , 아침 에 피 었 다가 한낮 이 되 면 오므라들 ㄴ다 .\n",
      "10: 7 - 12 개 의 수술 이 있 으며 열매 는 개과 로 , 익 으면 위 의 반쪽 이 모자 처럼 떨어지 ㄴ다 .\n",
      "11: 뿌리 는 희 ㄴ 색 , 줄기 는 빨갛 ㄴ 색 , 잎 은 초록 색 , 꽃 은 노랗 ㄴ 색 , 씨 는 검정 색 의 5 가지 색 을 띄 므로 , 오행 초 이 라고 도 불리 ㄴ다 .\n",
      "12: 잎 을 나물 이나 샐러드 로 만들 어 먹 는다 .\n",
      "13: 생약 으로 는 전초 를 쓰 며 마치현 ( 馬齒莧 ) 이 라 하 ㄴ다 .\n",
      "14: 마치현 으로 피부 영양 제 를 만들 기 도 하 ㄴ다고 하 ㄴ다 .\n",
      "15: 옥살 산 칼슘 과 같 은 다량 의 무기 염 과 도파민 등 을 함유 하 어 한국 과 중국 에서 는 해독 , 이뇨약 으로 쓰 며 , 서양 에서 는 건위 , 천식 , 방광 염 에 쓰 ㄴ다 .\n",
      "16: 사진 : < gallery > 그림 : Portulaca oleracea 02 . jpg 그림 : Semizotu . JPG | 그림 : Portulaca oleracea 1 . jpg | < center > 재배 종 의 흰색 , 붉은색 꽃 .\n",
      "17: 분류 : 쇠 비름 과 , 풀 , 나물 , 약용 식물 , 1753 년 기재 되 ㄴ 식물 .\n"
     ]
    }
   ],
   "source": [
    "while(True):\n",
    "    wiki_file=input(\"Paste file name\")\n",
    "    clear_output()\n",
    "    print(wiki_file)\n",
    "    line_num=0\n",
    "    for sentence in util.load_stories_with_our_query_from_filename(wiki_file):\n",
    "        print(str(line_num)+\": \"+\" \".join(sentence))\n",
    "        line_num+=1"
   ]
  },
  {
   "cell_type": "code",
   "execution_count": null,
   "metadata": {
    "collapsed": true
   },
   "outputs": [],
   "source": []
  }
 ],
 "metadata": {
  "kernelspec": {
   "display_name": "Python 3",
   "language": "python",
   "name": "python3"
  },
  "language_info": {
   "codemirror_mode": {
    "name": "ipython",
    "version": 3
   },
   "file_extension": ".py",
   "mimetype": "text/x-python",
   "name": "python",
   "nbconvert_exporter": "python",
   "pygments_lexer": "ipython3",
   "version": "3.4.3"
  }
 },
 "nbformat": 4,
 "nbformat_minor": 0
}
