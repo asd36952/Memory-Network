{
 "cells": [
  {
   "cell_type": "code",
   "execution_count": 1,
   "metadata": {
    "collapsed": true
   },
   "outputs": [],
   "source": [
    "import os\n",
    "import numpy as np\n",
    "import random\n",
    "import util\n",
    "from IPython.display import clear_output"
   ]
  },
  {
   "cell_type": "code",
   "execution_count": 2,
   "metadata": {
    "collapsed": true
   },
   "outputs": [],
   "source": [
    "WIKI_DIR=\"/home/asd36952/exobrain/data/wikipedia/boxed_content_20160407/\"\n",
    "\n",
    "wiki_file_list=os.listdir(WIKI_DIR)"
   ]
  },
  {
   "cell_type": "code",
   "execution_count": null,
   "metadata": {
    "collapsed": false,
    "scrolled": false
   },
   "outputs": [
    {
     "name": "stdout",
     "output_type": "stream",
     "text": [
      "0227929_천왕성의 위성(본문).txt\n",
      "천왕성의 위성은 현재까지 27개가 발견되었다. 가장 먼저 발견된 위성은 티타니아와 오베론으로,1787년 1월 11일, 윌리엄 허셜이 발견하였다. 티타니아와 오베론은 그 다음으로 아리엘과 움브리엘은 1851년 윌리엄 라셀이 발견하였다. 1852년, 허셜의 아들 존 허셜이 이들 발견된 네 위성에 이름을 붙였다. 1948년 제러드 카이퍼가 마지막 주요 위성인 미란다을 발견하였다. 1986년 보이저 2호가 천왕성을 지나가면서 10개의 위성을 발견하였다. 나중에 보이저 2호의 사진을 분석하면서 퍼디타를 추가로 발견하였다. 허블 우주 망원경을 이용해서 두 개의 위성이 추가로 발견되었다. 1997년까지는 천왕성은 거대 행성 중에서 유일하게 불규칙 위성을 찾지 못한 행성이었다. 그 후 지상 망원경을 통해 9 개의 불규칙 위성을 추가로 발견하였다. 신화나 고전에서 이름을 따른 다른 행성의 위성과 달리, 천왕성의 위성은 윌리엄 셰익스피어와 알렉산더 포프의 작품에 나오는 주인공 이름을 따랐다. 공전 주기순 천왕성의 위성 목록이다. 타원체 모양을 유지할만큼의 질량을 가진 위성은 하늘색으로 표시되어 있다. (포획된) 불규칙 위성 중에서 순행하는 위성은 밝은 회색, 역행하는 위성은 짙은 회색으로 표시되어 있다. align=bottom style=\"text-align:left; padding:0.5em;\" | 분류: 천왕성의 위성\n"
     ]
    }
   ],
   "source": [
    "while(True):\n",
    "    clear_output()\n",
    "    wiki_file=random.sample(wiki_file_list,1)\n",
    "    print(wiki_file[0])\n",
    "    print(util.process_content(util.read_file(wiki_file[0]))[1])\n",
    "    input()"
   ]
  },
  {
   "cell_type": "code",
   "execution_count": null,
   "metadata": {
    "collapsed": false
   },
   "outputs": [],
   "source": [
    "len(wiki_file_list)"
   ]
  },
  {
   "cell_type": "code",
   "execution_count": null,
   "metadata": {
    "collapsed": true
   },
   "outputs": [],
   "source": []
  }
 ],
 "metadata": {
  "kernelspec": {
   "display_name": "Python 3",
   "language": "python",
   "name": "python3"
  }
 },
 "nbformat": 4,
 "nbformat_minor": 0
}
