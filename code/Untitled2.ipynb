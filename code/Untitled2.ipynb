{
 "cells": [
  {
   "cell_type": "code",
   "execution_count": 41,
   "metadata": {
    "collapsed": false
   },
   "outputs": [
    {
     "name": "stdout",
     "output_type": "stream",
     "text": [
      "232\n",
      "53\n",
      "0.22844827586206898\n"
     ]
    }
   ],
   "source": [
    "with open(\"./memnet_out/Memorynet_our_data_hop_batch_linear_start_softmax_strong_supervision_without_TA_train2_16_25.txt\") as f:\n",
    "    attention=-1\n",
    "    att_idx=0\n",
    "    count=0\n",
    "    r_list=[]\n",
    "    while(True):\n",
    "        line=f.readline()\n",
    "        if line==\"\\n\":\n",
    "            continue\n",
    "        if line==\"\":\n",
    "            break\n",
    "        if line[0]==\"O\":\n",
    "            continue\n",
    "        if line[0]==\"S\":\n",
    "            if \",\" in line:\n",
    "                support=int(line.split(\",\")[-1][:-2])\n",
    "            else:\n",
    "                support=int(line.split(\"[\")[-1].split(\"]\")[0])\n",
    "            if support==att_idx:\n",
    "                r_list.append(True)\n",
    "                \n",
    "            else:\n",
    "                r_list.append(False)\n",
    "                \n",
    "            attention=-1\n",
    "            count=0\n",
    "        elif line[-2]==\"]\":\n",
    "            continue\n",
    "        else:\n",
    "            \n",
    "            if float(line.split(\"\\t\")[-2])>attention:\n",
    "                attention=float(line.split(\"\\t\")[-2])\n",
    "                att_idx=count\n",
    "            count+=1\n",
    "            \n",
    "   \n",
    "print(len(r_list))\n",
    "print(sum(r_list))\n",
    "print(sum(r_list)/len(r_list))"
   ]
  },
  {
   "cell_type": "code",
   "execution_count": 37,
   "metadata": {
    "collapsed": false
   },
   "outputs": [
    {
     "name": "stdout",
     "output_type": "stream",
     "text": [
      "232\n",
      "83\n",
      "0.3577586206896552\n"
     ]
    }
   ],
   "source": [
    "print(len(r_list))\n",
    "print(sum(r_list))\n",
    "print(sum(r_list)/len(r_list))"
   ]
  }
 ],
 "metadata": {
  "kernelspec": {
   "display_name": "Python 3",
   "language": "python",
   "name": "python3"
  },
  "language_info": {
   "codemirror_mode": {
    "name": "ipython",
    "version": 3
   },
   "file_extension": ".py",
   "mimetype": "text/x-python",
   "name": "python",
   "nbconvert_exporter": "python",
   "pygments_lexer": "ipython3",
   "version": "3.4.3"
  }
 },
 "nbformat": 4,
 "nbformat_minor": 0
}
